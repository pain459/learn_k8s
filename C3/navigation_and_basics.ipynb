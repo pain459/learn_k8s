{
 "cells": [
  {
   "cell_type": "code",
   "execution_count": 1,
   "metadata": {
    "vscode": {
     "languageId": "shellscript"
    }
   },
   "outputs": [
    {
     "name": "stdout",
     "output_type": "stream",
     "text": [
      "NAME       STATUS   ROLES           AGE     VERSION\n",
      "minikube   Ready    control-plane   8m45s   v1.30.0\n"
     ]
    }
   ],
   "source": [
    "! kubectl get nodes"
   ]
  },
  {
   "cell_type": "code",
   "execution_count": 3,
   "metadata": {},
   "outputs": [
    {
     "name": "stdout",
     "output_type": "stream",
     "text": [
      "Client Version: v1.29.5\n",
      "Kustomize Version: v5.0.4-0.20230601165947-6ce0bf390ce3\n",
      "Server Version: v1.30.0\n"
     ]
    }
   ],
   "source": [
    "! kubectl version"
   ]
  },
  {
   "cell_type": "code",
   "execution_count": 4,
   "metadata": {},
   "outputs": [
    {
     "name": "stdout",
     "output_type": "stream",
     "text": [
      "\u001b[33;1mWarning:\u001b[0m v1 ComponentStatus is deprecated in v1.19+\n",
      "NAME                 STATUS    MESSAGE   ERROR\n",
      "scheduler            Healthy   ok        \n",
      "controller-manager   Healthy   ok        \n",
      "etcd-0               Healthy   ok        \n"
     ]
    }
   ],
   "source": [
    "! kubectl get componentstatus"
   ]
  },
  {
   "cell_type": "code",
   "execution_count": 5,
   "metadata": {},
   "outputs": [
    {
     "name": "stdout",
     "output_type": "stream",
     "text": [
      "Name:               minikube\n",
      "Roles:              control-plane\n",
      "Labels:             beta.kubernetes.io/arch=amd64\n",
      "                    beta.kubernetes.io/os=linux\n",
      "                    kubernetes.io/arch=amd64\n",
      "                    kubernetes.io/hostname=minikube\n",
      "                    kubernetes.io/os=linux\n",
      "                    minikube.k8s.io/commit=5883c09216182566a63dff4c326a6fc9ed2982ff\n",
      "                    minikube.k8s.io/name=minikube\n",
      "                    minikube.k8s.io/primary=true\n",
      "                    minikube.k8s.io/updated_at=2024_06_06T20_16_49_0700\n",
      "                    minikube.k8s.io/version=v1.33.1\n",
      "                    node-role.kubernetes.io/control-plane=\n",
      "                    node.kubernetes.io/exclude-from-external-load-balancers=\n",
      "Annotations:        kubeadm.alpha.kubernetes.io/cri-socket: unix:///var/run/cri-dockerd.sock\n",
      "                    node.alpha.kubernetes.io/ttl: 0\n",
      "                    volumes.kubernetes.io/controller-managed-attach-detach: true\n",
      "CreationTimestamp:  Thu, 06 Jun 2024 20:16:47 +0530\n",
      "Taints:             <none>\n",
      "Unschedulable:      false\n",
      "Lease:\n",
      "  HolderIdentity:  minikube\n",
      "  AcquireTime:     <unset>\n",
      "  RenewTime:       Thu, 06 Jun 2024 20:26:32 +0530\n",
      "Conditions:\n",
      "  Type             Status  LastHeartbeatTime                 LastTransitionTime                Reason                       Message\n",
      "  ----             ------  -----------------                 ------------------                ------                       -------\n",
      "  MemoryPressure   False   Thu, 06 Jun 2024 20:22:15 +0530   Thu, 06 Jun 2024 20:16:46 +0530   KubeletHasSufficientMemory   kubelet has sufficient memory available\n",
      "  DiskPressure     False   Thu, 06 Jun 2024 20:22:15 +0530   Thu, 06 Jun 2024 20:16:46 +0530   KubeletHasNoDiskPressure     kubelet has no disk pressure\n",
      "  PIDPressure      False   Thu, 06 Jun 2024 20:22:15 +0530   Thu, 06 Jun 2024 20:16:46 +0530   KubeletHasSufficientPID      kubelet has sufficient PID available\n",
      "  Ready            True    Thu, 06 Jun 2024 20:22:15 +0530   Thu, 06 Jun 2024 20:16:47 +0530   KubeletReady                 kubelet is posting ready status\n",
      "Addresses:\n",
      "  InternalIP:  192.168.49.2\n",
      "  Hostname:    minikube\n",
      "Capacity:\n",
      "  cpu:                12\n",
      "  ephemeral-storage:  975137Mi\n",
      "  hugepages-1Gi:      0\n",
      "  hugepages-2Mi:      0\n",
      "  memory:             32578132Ki\n",
      "  pods:               110\n",
      "Allocatable:\n",
      "  cpu:                12\n",
      "  ephemeral-storage:  975137Mi\n",
      "  hugepages-1Gi:      0\n",
      "  hugepages-2Mi:      0\n",
      "  memory:             32578132Ki\n",
      "  pods:               110\n",
      "System Info:\n",
      "  Machine ID:                 01a9069106954ad7a1de6411906e53f3\n",
      "  System UUID:                487fb51e-5a2b-41a2-b0c7-7882229db8c8\n",
      "  Boot ID:                    ebc1b82c-496b-445b-b8e2-f56607b8d9d3\n",
      "  Kernel Version:             6.8.11-300.fc40.x86_64\n",
      "  OS Image:                   Ubuntu 22.04.4 LTS\n",
      "  Operating System:           linux\n",
      "  Architecture:               amd64\n",
      "  Container Runtime Version:  docker://26.1.1\n",
      "  Kubelet Version:            v1.30.0\n",
      "  Kube-Proxy Version:         v1.30.0\n",
      "PodCIDR:                      10.244.0.0/24\n",
      "PodCIDRs:                     10.244.0.0/24\n",
      "Non-terminated Pods:          (7 in total)\n",
      "  Namespace                   Name                                CPU Requests  CPU Limits  Memory Requests  Memory Limits  Age\n",
      "  ---------                   ----                                ------------  ----------  ---------------  -------------  ---\n",
      "  kube-system                 coredns-7db6d8ff4d-8fnng            100m (0%)     0 (0%)      70Mi (0%)        170Mi (0%)     9m37s\n",
      "  kube-system                 etcd-minikube                       100m (0%)     0 (0%)      100Mi (0%)       0 (0%)         9m51s\n",
      "  kube-system                 kube-apiserver-minikube             250m (2%)     0 (0%)      0 (0%)           0 (0%)         9m51s\n",
      "  kube-system                 kube-controller-manager-minikube    200m (1%)     0 (0%)      0 (0%)           0 (0%)         9m51s\n",
      "  kube-system                 kube-proxy-n6rmn                    0 (0%)        0 (0%)      0 (0%)           0 (0%)         9m37s\n",
      "  kube-system                 kube-scheduler-minikube             100m (0%)     0 (0%)      0 (0%)           0 (0%)         9m51s\n",
      "  kube-system                 storage-provisioner                 0 (0%)        0 (0%)      0 (0%)           0 (0%)         9m50s\n",
      "Allocated resources:\n",
      "  (Total limits may be over 100 percent, i.e., overcommitted.)\n",
      "  Resource           Requests    Limits\n",
      "  --------           --------    ------\n",
      "  cpu                750m (6%)   0 (0%)\n",
      "  memory             170Mi (0%)  170Mi (0%)\n",
      "  ephemeral-storage  0 (0%)      0 (0%)\n",
      "  hugepages-1Gi      0 (0%)      0 (0%)\n",
      "  hugepages-2Mi      0 (0%)      0 (0%)\n",
      "Events:\n",
      "  Type    Reason                   Age    From             Message\n",
      "  ----    ------                   ----   ----             -------\n",
      "  Normal  Starting                 9m36s  kube-proxy       \n",
      "  Normal  Starting                 9m51s  kubelet          Starting kubelet.\n",
      "  Normal  NodeAllocatableEnforced  9m51s  kubelet          Updated Node Allocatable limit across pods\n",
      "  Normal  NodeHasSufficientMemory  9m51s  kubelet          Node minikube status is now: NodeHasSufficientMemory\n",
      "  Normal  NodeHasNoDiskPressure    9m51s  kubelet          Node minikube status is now: NodeHasNoDiskPressure\n",
      "  Normal  NodeHasSufficientPID     9m51s  kubelet          Node minikube status is now: NodeHasSufficientPID\n",
      "  Normal  RegisteredNode           9m38s  node-controller  Node minikube event: Registered Node minikube in Controller\n"
     ]
    }
   ],
   "source": [
    "! kubectl describe node minikube"
   ]
  },
  {
   "cell_type": "code",
   "execution_count": null,
   "metadata": {},
   "outputs": [],
   "source": []
  }
 ],
 "metadata": {
  "kernelspec": {
   "display_name": "Python 3",
   "language": "python",
   "name": "python3"
  },
  "language_info": {
   "codemirror_mode": {
    "name": "ipython",
    "version": 3
   },
   "file_extension": ".py",
   "mimetype": "text/x-python",
   "name": "python",
   "nbconvert_exporter": "python",
   "pygments_lexer": "ipython3",
   "version": "3.8.19"
  }
 },
 "nbformat": 4,
 "nbformat_minor": 2
}
